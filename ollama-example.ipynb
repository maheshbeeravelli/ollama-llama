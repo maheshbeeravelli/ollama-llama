{
 "cells": [
  {
   "cell_type": "code",
   "execution_count": null,
   "metadata": {},
   "outputs": [],
   "source": [
    "%pip install -qU langchain-core\n",
    "%pip install -qU lanchain-ollama"
   ]
  },
  {
   "cell_type": "markdown",
   "metadata": {},
   "source": [
    "# Install Ollama \n",
    "Download the and install from https://ollama.com/download site\n",
    "## Download modal \n",
    "Run below command it will download and run the modal. First time when you run downloading modal can take time as the modal file is around ~5GB\n",
    "```SHELL\n",
    "ollama run llama3\n",
    "```"
   ]
  },
  {
   "cell_type": "code",
   "execution_count": null,
   "metadata": {},
   "outputs": [],
   "source": [
    "from langchain_core.prompts import ChatPromptTemplate\n",
    "from langchain_ollama.llms import OllamaLLM\n",
    "\n",
    "template = \"\"\"Question: {question}\n",
    "\n",
    "Answer: Let's think step by step.\"\"\"\n",
    "\n",
    "prompt = ChatPromptTemplate.from_template(template)\n",
    "\n",
    "model = OllamaLLM(model=\"llama3\")\n",
    "\n",
    "chain = prompt | model\n",
    "\n",
    "chain.invoke({\"question\": \"What is LangChain?\"})"
   ]
  },
  {
   "cell_type": "code",
   "execution_count": null,
   "metadata": {},
   "outputs": [],
   "source": [
    "from langchain_ollama import ChatOllama\n",
    "\n",
    "llm = ChatOllama(\n",
    "   model=\"llama3\",\n",
    "   temperature=0\n",
    ")"
   ]
  },
  {
   "cell_type": "code",
   "execution_count": 10,
   "metadata": {},
   "outputs": [
    {
     "data": {
      "text/plain": [
       "'To split the text in the \"Name\" column by spaces and create new columns for first name (fname) and last name (lname), you can use the following Power Query steps:\\n\\n1. Select the \"Name\" column:\\n```\\n= Table.Column(\"Name\")\\n```\\n2. Use the `Split` function to split the text into multiple columns:\\n```\\n= Split( Table.Column(\"Name\"), \" \")\\n```\\nThis will create a new table with separate columns for each word in the original \"Name\" column.\\n\\n3. Extract the first and last names from the resulting table:\\n```\\nfname = Table.Column(\"Table\", 0)\\nlname = Table.Column(\"Table\", -1)\\n```\\nThe `0` index refers to the first column, which will contain the first name. The `-1` index refers to the last column, which will contain the last name.\\n\\n4. Create new columns for fname and lname:\\n```\\nNew Column: \"fname\" = fname\\nNew Column: \"lname\" = lname\\n```\\nThis will create two new columns in your original table with the extracted first and last names.\\n\\nHere\\'s the complete Power Query code:\\n```\\n= Table.Column(\"Name\")\\n= Split( Table.Column(\"Name\"), \" \")\\nfname = Table.Column(\"Table\", 0)\\nlname = Table.Column(\"Table\", -1)\\nNew Column: \"fname\" = fname\\nNew Column: \"lname\" = lname\\n```\\nNote that this assumes the original \"Name\" column contains text with spaces separating the first and last names. If your data has a different format, you may need to adjust the Split function accordingly.'"
      ]
     },
     "execution_count": 10,
     "metadata": {},
     "output_type": "execute_result"
    }
   ],
   "source": [
    "from langchain_core.messages import AIMessage\n",
    "\n",
    "messages = [\n",
    "    (\n",
    "        \"system\",\n",
    "        \"You are a helpful assistant for MS Fabric to guide the steps to be created. Translate the user sentence to the usefull Power Query.\",\n",
    "    ),\n",
    "    (\"human\", \"I am interested in splitting a text in name colum with space and create new columns fnameCan.\"),\n",
    "]\n",
    "ai_msg = llm.invoke(messages)\n",
    "ai_msg.content"
   ]
  }
 ],
 "metadata": {
  "kernelspec": {
   "display_name": "Python 3",
   "language": "python",
   "name": "python3"
  },
  "language_info": {
   "codemirror_mode": {
    "name": "ipython",
    "version": 3
   },
   "file_extension": ".py",
   "mimetype": "text/x-python",
   "name": "python",
   "nbconvert_exporter": "python",
   "pygments_lexer": "ipython3",
   "version": "3.11.6"
  }
 },
 "nbformat": 4,
 "nbformat_minor": 2
}
